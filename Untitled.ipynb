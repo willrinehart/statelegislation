{
 "cells": [
  {
   "cell_type": "markdown",
   "id": "19cf0df4-1471-4970-aed1-81aa7c2f2a87",
   "metadata": {},
   "source": [
    "Open states coding   https://v3.openstates.org"
   ]
  },
  {
   "cell_type": "code",
   "execution_count": null,
   "id": "f87d9ebb-0524-479d-b0dc-2d7cf3c74728",
   "metadata": {},
   "outputs": [],
   "source": []
  }
 ],
 "metadata": {
  "kernelspec": {
   "display_name": "Python 3 (ipykernel)",
   "language": "python",
   "name": "python3"
  },
  "language_info": {
   "codemirror_mode": {
    "name": "ipython",
    "version": 3
   },
   "file_extension": ".py",
   "mimetype": "text/x-python",
   "name": "python",
   "nbconvert_exporter": "python",
   "pygments_lexer": "ipython3",
   "version": "3.13.2"
  }
 },
 "nbformat": 4,
 "nbformat_minor": 5
}
