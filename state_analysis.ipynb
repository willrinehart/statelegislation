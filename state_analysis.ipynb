{
 "cells": [
  {
   "cell_type": "markdown",
   "id": "a6000f07-d08c-4ce4-b912-bd5c73d5ef8f",
   "metadata": {},
   "source": [
    "\"\"\"\n",
    "Title: State Legislature Data Gathering\n",
    "Description: A Jupyter Notebook exploring various state legislature APIs or data sources.\n",
    "\"\"\""
   ]
  },
  {
   "cell_type": "code",
   "execution_count": 9,
   "id": "4b6c4f71-e05c-413b-9938-f4f8a6ec57e3",
   "metadata": {},
   "outputs": [],
   "source": [
    "# Let's import some standard Python modules we might need.\n",
    "import requests\n",
    "import json\n",
    "import xml.etree.ElementTree as ET\n",
    "import csv\n",
    "import urllib3"
   ]
  },
  {
   "cell_type": "markdown",
   "id": "45a6d86c-9974-49d8-83b4-c2c495a668e6",
   "metadata": {},
   "source": [
    "###############################################################################\n",
    "# 1. Alabama\n",
    "###############################################################################\n",
    "- The Alabama Legislature (ALISON) does not appear to have a publicly documented API.\n",
    "- The website uses an internal JSON endpoint:\n",
    "    https://etl.api.alison.legislature.state.al.us/bill-search?tab=1\n",
    "- You can potentially reverse-engineer parameters by inspecting requests, but\n",
    "  no public documentation is available regarding rate limits or official usage."
   ]
  },
  {
   "cell_type": "code",
   "execution_count": 10,
   "id": "53ba8630-6019-40fb-8e26-bf18e513bc50",
   "metadata": {},
   "outputs": [
    {
     "name": "stdout",
     "output_type": "stream",
     "text": [
      "An error occurred: Expecting value: line 1 column 1 (char 0)\n"
     ]
    }
   ],
   "source": [
    "# Suppress InsecureRequestWarning\n",
    "urllib3.disable_warnings(urllib3.exceptions.InsecureRequestWarning)\n",
    "\n",
    "try:\n",
    "    alabama_response = requests.get(\"https://etl.api.alison.legislature.state.al.us/bill-search?tab=1\", verify=False)\n",
    "    if alabama_response.status_code == 200:\n",
    "        alabama_data = alabama_response.json()\n",
    "        # Process the JSON data...\n",
    "        print(\"Alabama data retrieved successfully.\")\n",
    "    else:\n",
    "        print(f\"Error retrieving Alabama data: {alabama_response.status_code}\")\n",
    "except Exception as e:\n",
    "    print(f\"An error occurred: {e}\")"
   ]
  },
  {
   "cell_type": "markdown",
   "id": "226e9115-ee62-4113-ad60-e1fe1b7553f3",
   "metadata": {},
   "source": [
    "###############################################################################\n",
    "# 2. Alaska\n",
    "###############################################################################"
   ]
  },
  {
   "cell_type": "markdown",
   "id": "9f22a5fe-a3c7-4b8d-ad50-958a83e46f10",
   "metadata": {},
   "source": []
  },
  {
   "cell_type": "code",
   "execution_count": null,
   "id": "a66f274a-75aa-4188-82c2-df4821dc03fb",
   "metadata": {},
   "outputs": [],
   "source": []
  }
 ],
 "metadata": {
  "kernelspec": {
   "display_name": "Python 3 (ipykernel)",
   "language": "python",
   "name": "python3"
  },
  "language_info": {
   "codemirror_mode": {
    "name": "ipython",
    "version": 3
   },
   "file_extension": ".py",
   "mimetype": "text/x-python",
   "name": "python",
   "nbconvert_exporter": "python",
   "pygments_lexer": "ipython3",
   "version": "3.13.2"
  }
 },
 "nbformat": 4,
 "nbformat_minor": 5
}
